{
 "cells": [
  {
   "cell_type": "markdown",
   "metadata": {},
   "source": [
    "## EDA"
   ]
  },
  {
   "cell_type": "code",
   "execution_count": 39,
   "metadata": {
    "id": "Ee65SkK-e0fD"
   },
   "outputs": [],
   "source": [
    "#importing necessary libraries\n",
    "\n",
    "import numpy as np                 \n",
    "import pandas as pd               \n",
    "import matplotlib.pyplot as plt\n",
    "import seaborn as sns\n",
    "\n",
    "\n",
    "from sklearn.preprocessing import StandardScaler\n",
    "\n",
    "from matplotlib import cm\n",
    "from matplotlib.colors import ListedColormap, LinearSegmentedColormap\n",
    "\n",
    "from matplotlib import pyplot"
   ]
  },
  {
   "cell_type": "code",
   "execution_count": 40,
   "metadata": {
    "id": "OoCVSv9qe0fE"
   },
   "outputs": [],
   "source": [
    "data = pd.read_csv(\"users.csv\")\n"
   ]
  },
  {
   "cell_type": "code",
   "execution_count": 41,
   "metadata": {
    "colab": {
     "base_uri": "https://localhost:8080/"
    },
    "id": "84qD0iW7e0fF",
    "outputId": "2baa2f7c-c3d9-40e1-c63f-771b3ceb3322"
   },
   "outputs": [
    {
     "data": {
      "text/plain": [
       "(10000, 29)"
      ]
     },
     "execution_count": 41,
     "metadata": {},
     "output_type": "execute_result"
    }
   ],
   "source": [
    "data.shape\n",
    "# 10,000 rows and 29 columns"
   ]
  },
  {
   "cell_type": "code",
   "execution_count": 42,
   "metadata": {
    "colab": {
     "base_uri": "https://localhost:8080/",
     "height": 600
    },
    "id": "qj_GBRiVe0fH",
    "outputId": "ce3f9e99-f6a1-4fbf-d51d-f4fcf96298f4",
    "scrolled": true
   },
   "outputs": [
    {
     "data": {
      "text/html": [
       "<div>\n",
       "<style scoped>\n",
       "    .dataframe tbody tr th:only-of-type {\n",
       "        vertical-align: middle;\n",
       "    }\n",
       "\n",
       "    .dataframe tbody tr th {\n",
       "        vertical-align: top;\n",
       "    }\n",
       "\n",
       "    .dataframe thead th {\n",
       "        text-align: right;\n",
       "    }\n",
       "</style>\n",
       "<table border=\"1\" class=\"dataframe\">\n",
       "  <thead>\n",
       "    <tr style=\"text-align: right;\">\n",
       "      <th></th>\n",
       "      <th>cell</th>\n",
       "      <th>city</th>\n",
       "      <th>country</th>\n",
       "      <th>coordinates</th>\n",
       "      <th>dob</th>\n",
       "      <th>email</th>\n",
       "      <th>first_name</th>\n",
       "      <th>full_name</th>\n",
       "      <th>gender</th>\n",
       "      <th>id</th>\n",
       "      <th>...</th>\n",
       "      <th>nat</th>\n",
       "      <th>password</th>\n",
       "      <th>phone</th>\n",
       "      <th>postcode</th>\n",
       "      <th>registered</th>\n",
       "      <th>registered_age</th>\n",
       "      <th>state</th>\n",
       "      <th>street</th>\n",
       "      <th>username</th>\n",
       "      <th>zipcode</th>\n",
       "    </tr>\n",
       "  </thead>\n",
       "  <tbody>\n",
       "    <tr>\n",
       "      <th>0</th>\n",
       "      <td>86844133</td>\n",
       "      <td>Aarhus</td>\n",
       "      <td>Denmark</td>\n",
       "      <td>{'latitude': '-27.2993', 'longitude': '-166.99...</td>\n",
       "      <td>1993-01-13T15:08:05.786Z</td>\n",
       "      <td>andreas.petersen@example.com</td>\n",
       "      <td>Andreas</td>\n",
       "      <td>Andreas Petersen</td>\n",
       "      <td>male</td>\n",
       "      <td>{'type': 'CPR', 'number': '130193-1307'}</td>\n",
       "      <td>...</td>\n",
       "      <td>DK</td>\n",
       "      <td>sushi</td>\n",
       "      <td>78178106</td>\n",
       "      <td>98297</td>\n",
       "      <td>2014-11-28T08:02:33.528Z</td>\n",
       "      <td>7</td>\n",
       "      <td>Hovedstaden</td>\n",
       "      <td>3749 Danmarksgade</td>\n",
       "      <td>lazypanda650</td>\n",
       "      <td>98297</td>\n",
       "    </tr>\n",
       "    <tr>\n",
       "      <th>1</th>\n",
       "      <td>21798697</td>\n",
       "      <td>Rønnede</td>\n",
       "      <td>Denmark</td>\n",
       "      <td>{'latitude': '71.1049', 'longitude': '51.7705'}</td>\n",
       "      <td>1963-02-18T09:27:54.515Z</td>\n",
       "      <td>andrea.mortensen@example.com</td>\n",
       "      <td>Andrea</td>\n",
       "      <td>Andrea Mortensen</td>\n",
       "      <td>female</td>\n",
       "      <td>{'type': 'CPR', 'number': '180263-1138'}</td>\n",
       "      <td>...</td>\n",
       "      <td>DK</td>\n",
       "      <td>12345678</td>\n",
       "      <td>82788871</td>\n",
       "      <td>21722</td>\n",
       "      <td>2011-08-01T14:31:46.077Z</td>\n",
       "      <td>10</td>\n",
       "      <td>Hovedstaden</td>\n",
       "      <td>9435 Morelvej</td>\n",
       "      <td>orangedog426</td>\n",
       "      <td>21722</td>\n",
       "    </tr>\n",
       "    <tr>\n",
       "      <th>2</th>\n",
       "      <td>42940164</td>\n",
       "      <td>Hornbæk</td>\n",
       "      <td>Denmark</td>\n",
       "      <td>{'latitude': '-56.6625', 'longitude': '-49.5258'}</td>\n",
       "      <td>1970-05-03T08:54:43.828Z</td>\n",
       "      <td>josefine.nielsen@example.com</td>\n",
       "      <td>Josefine</td>\n",
       "      <td>Josefine Nielsen</td>\n",
       "      <td>female</td>\n",
       "      <td>{'type': 'CPR', 'number': '030570-4011'}</td>\n",
       "      <td>...</td>\n",
       "      <td>DK</td>\n",
       "      <td>down</td>\n",
       "      <td>66933663</td>\n",
       "      <td>46566</td>\n",
       "      <td>2012-09-23T01:15:07.931Z</td>\n",
       "      <td>9</td>\n",
       "      <td>Danmark</td>\n",
       "      <td>7343 Tjørnebjerg</td>\n",
       "      <td>beautifulkoala516</td>\n",
       "      <td>46566</td>\n",
       "    </tr>\n",
       "    <tr>\n",
       "      <th>3</th>\n",
       "      <td>(832)-210-2932</td>\n",
       "      <td>West Jordan</td>\n",
       "      <td>United States</td>\n",
       "      <td>{'latitude': '-35.5890', 'longitude': '-146.82...</td>\n",
       "      <td>1975-05-26T11:09:54.151Z</td>\n",
       "      <td>eleanor.cox@example.com</td>\n",
       "      <td>Eleanor</td>\n",
       "      <td>Eleanor Cox</td>\n",
       "      <td>female</td>\n",
       "      <td>{'type': 'SSN', 'number': '388-69-0621'}</td>\n",
       "      <td>...</td>\n",
       "      <td>US</td>\n",
       "      <td>puff</td>\n",
       "      <td>(113)-462-6318</td>\n",
       "      <td>73750</td>\n",
       "      <td>2015-06-16T21:38:49.101Z</td>\n",
       "      <td>6</td>\n",
       "      <td>Kentucky</td>\n",
       "      <td>4533 Valley View Ln</td>\n",
       "      <td>sadrabbit934</td>\n",
       "      <td>73750</td>\n",
       "    </tr>\n",
       "    <tr>\n",
       "      <th>4</th>\n",
       "      <td>0178-4102666</td>\n",
       "      <td>Waghäusel</td>\n",
       "      <td>Germany</td>\n",
       "      <td>{'latitude': '-12.8864', 'longitude': '-15.1739'}</td>\n",
       "      <td>1973-12-07T11:30:12.588Z</td>\n",
       "      <td>hubertine.bethke@example.com</td>\n",
       "      <td>Hubertine</td>\n",
       "      <td>Hubertine Bethke</td>\n",
       "      <td>female</td>\n",
       "      <td>{'type': '', 'number': None}</td>\n",
       "      <td>...</td>\n",
       "      <td>DE</td>\n",
       "      <td>wally</td>\n",
       "      <td>0424-7111422</td>\n",
       "      <td>86121</td>\n",
       "      <td>2016-06-24T00:07:25.002Z</td>\n",
       "      <td>5</td>\n",
       "      <td>Nordrhein-Westfalen</td>\n",
       "      <td>1434 Industriestraße</td>\n",
       "      <td>goldenelephant678</td>\n",
       "      <td>86121</td>\n",
       "    </tr>\n",
       "  </tbody>\n",
       "</table>\n",
       "<p>5 rows × 29 columns</p>\n",
       "</div>"
      ],
      "text/plain": [
       "             cell         city        country  \\\n",
       "0        86844133       Aarhus        Denmark   \n",
       "1        21798697      Rønnede        Denmark   \n",
       "2        42940164      Hornbæk        Denmark   \n",
       "3  (832)-210-2932  West Jordan  United States   \n",
       "4    0178-4102666    Waghäusel        Germany   \n",
       "\n",
       "                                         coordinates  \\\n",
       "0  {'latitude': '-27.2993', 'longitude': '-166.99...   \n",
       "1    {'latitude': '71.1049', 'longitude': '51.7705'}   \n",
       "2  {'latitude': '-56.6625', 'longitude': '-49.5258'}   \n",
       "3  {'latitude': '-35.5890', 'longitude': '-146.82...   \n",
       "4  {'latitude': '-12.8864', 'longitude': '-15.1739'}   \n",
       "\n",
       "                        dob                         email first_name  \\\n",
       "0  1993-01-13T15:08:05.786Z  andreas.petersen@example.com    Andreas   \n",
       "1  1963-02-18T09:27:54.515Z  andrea.mortensen@example.com     Andrea   \n",
       "2  1970-05-03T08:54:43.828Z  josefine.nielsen@example.com   Josefine   \n",
       "3  1975-05-26T11:09:54.151Z       eleanor.cox@example.com    Eleanor   \n",
       "4  1973-12-07T11:30:12.588Z  hubertine.bethke@example.com  Hubertine   \n",
       "\n",
       "          full_name  gender                                        id  ...  \\\n",
       "0  Andreas Petersen    male  {'type': 'CPR', 'number': '130193-1307'}  ...   \n",
       "1  Andrea Mortensen  female  {'type': 'CPR', 'number': '180263-1138'}  ...   \n",
       "2  Josefine Nielsen  female  {'type': 'CPR', 'number': '030570-4011'}  ...   \n",
       "3       Eleanor Cox  female  {'type': 'SSN', 'number': '388-69-0621'}  ...   \n",
       "4  Hubertine Bethke  female              {'type': '', 'number': None}  ...   \n",
       "\n",
       "  nat  password           phone postcode                registered  \\\n",
       "0  DK     sushi        78178106    98297  2014-11-28T08:02:33.528Z   \n",
       "1  DK  12345678        82788871    21722  2011-08-01T14:31:46.077Z   \n",
       "2  DK      down        66933663    46566  2012-09-23T01:15:07.931Z   \n",
       "3  US      puff  (113)-462-6318    73750  2015-06-16T21:38:49.101Z   \n",
       "4  DE     wally    0424-7111422    86121  2016-06-24T00:07:25.002Z   \n",
       "\n",
       "  registered_age                state                street  \\\n",
       "0              7          Hovedstaden     3749 Danmarksgade   \n",
       "1             10          Hovedstaden         9435 Morelvej   \n",
       "2              9              Danmark      7343 Tjørnebjerg   \n",
       "3              6             Kentucky   4533 Valley View Ln   \n",
       "4              5  Nordrhein-Westfalen  1434 Industriestraße   \n",
       "\n",
       "            username zipcode  \n",
       "0       lazypanda650   98297  \n",
       "1       orangedog426   21722  \n",
       "2  beautifulkoala516   46566  \n",
       "3       sadrabbit934   73750  \n",
       "4  goldenelephant678   86121  \n",
       "\n",
       "[5 rows x 29 columns]"
      ]
     },
     "execution_count": 42,
     "metadata": {},
     "output_type": "execute_result"
    }
   ],
   "source": [
    "data.head()"
   ]
  },
  {
   "cell_type": "code",
   "execution_count": 43,
   "metadata": {
    "colab": {
     "base_uri": "https://localhost:8080/"
    },
    "id": "fG69NrRVe0fI",
    "outputId": "29571546-472b-4854-b82a-8adb9558f256",
    "scrolled": false
   },
   "outputs": [
    {
     "data": {
      "text/plain": [
       "cell                 0\n",
       "city                 0\n",
       "country              0\n",
       "coordinates          0\n",
       "dob                  0\n",
       "email                0\n",
       "first_name           0\n",
       "full_name            0\n",
       "gender               0\n",
       "id                   0\n",
       "id_number         3518\n",
       "id_type           3518\n",
       "info                 0\n",
       "last_name            0\n",
       "login_md5            0\n",
       "login_salt           0\n",
       "login_sha1           0\n",
       "login_sha256         0\n",
       "login_uuid           0\n",
       "nat                  0\n",
       "password             0\n",
       "phone                0\n",
       "postcode             0\n",
       "registered           0\n",
       "registered_age       0\n",
       "state                0\n",
       "street               0\n",
       "username             0\n",
       "zipcode              0\n",
       "dtype: int64"
      ]
     },
     "execution_count": 43,
     "metadata": {},
     "output_type": "execute_result"
    }
   ],
   "source": [
    "data.isnull().sum()\n",
    "#checking if we have NaN values"
   ]
  },
  {
   "cell_type": "code",
   "execution_count": 44,
   "metadata": {
    "colab": {
     "base_uri": "https://localhost:8080/"
    },
    "id": "c4orWTPppSiH",
    "outputId": "0aa58936-5f26-43cd-ebf7-9894f41e2002"
   },
   "outputs": [
    {
     "data": {
      "text/plain": [
       "cell              0\n",
       "city              0\n",
       "country           0\n",
       "coordinates       0\n",
       "dob               0\n",
       "email             0\n",
       "first_name        0\n",
       "full_name         0\n",
       "gender            0\n",
       "id                0\n",
       "id_number         0\n",
       "id_type           0\n",
       "info              0\n",
       "last_name         0\n",
       "login_md5         0\n",
       "login_salt        0\n",
       "login_sha1        0\n",
       "login_sha256      0\n",
       "login_uuid        0\n",
       "nat               0\n",
       "password          0\n",
       "phone             0\n",
       "postcode          0\n",
       "registered        0\n",
       "registered_age    0\n",
       "state             0\n",
       "street            0\n",
       "username          0\n",
       "zipcode           0\n",
       "dtype: int64"
      ]
     },
     "execution_count": 44,
     "metadata": {},
     "output_type": "execute_result"
    }
   ],
   "source": [
    "data.dropna(inplace=True)\n",
    "data.isnull().sum()"
   ]
  },
  {
   "cell_type": "code",
   "execution_count": 45,
   "metadata": {
    "colab": {
     "base_uri": "https://localhost:8080/"
    },
    "id": "YWvs98Roe0fI",
    "outputId": "10f111de-584e-49fb-d4a0-0d6d3e167326",
    "scrolled": true
   },
   "outputs": [
    {
     "name": "stdout",
     "output_type": "stream",
     "text": [
      "<class 'pandas.core.frame.DataFrame'>\n",
      "Int64Index: 6482 entries, 0 to 9998\n",
      "Data columns (total 29 columns):\n",
      " #   Column          Non-Null Count  Dtype \n",
      "---  ------          --------------  ----- \n",
      " 0   cell            6482 non-null   object\n",
      " 1   city            6482 non-null   object\n",
      " 2   country         6482 non-null   object\n",
      " 3   coordinates     6482 non-null   object\n",
      " 4   dob             6482 non-null   object\n",
      " 5   email           6482 non-null   object\n",
      " 6   first_name      6482 non-null   object\n",
      " 7   full_name       6482 non-null   object\n",
      " 8   gender          6482 non-null   object\n",
      " 9   id              6482 non-null   object\n",
      " 10  id_number       6482 non-null   object\n",
      " 11  id_type         6482 non-null   object\n",
      " 12  info            6482 non-null   object\n",
      " 13  last_name       6482 non-null   object\n",
      " 14  login_md5       6482 non-null   object\n",
      " 15  login_salt      6482 non-null   object\n",
      " 16  login_sha1      6482 non-null   object\n",
      " 17  login_sha256    6482 non-null   object\n",
      " 18  login_uuid      6482 non-null   object\n",
      " 19  nat             6482 non-null   object\n",
      " 20  password        6482 non-null   object\n",
      " 21  phone           6482 non-null   object\n",
      " 22  postcode        6482 non-null   object\n",
      " 23  registered      6482 non-null   object\n",
      " 24  registered_age  6482 non-null   int64 \n",
      " 25  state           6482 non-null   object\n",
      " 26  street          6482 non-null   object\n",
      " 27  username        6482 non-null   object\n",
      " 28  zipcode         6482 non-null   object\n",
      "dtypes: int64(1), object(28)\n",
      "memory usage: 1.5+ MB\n"
     ]
    }
   ],
   "source": [
    "data.info()"
   ]
  },
  {
   "cell_type": "markdown",
   "metadata": {},
   "source": [
    "We have only one numeric variable:  **registered_age**\n"
   ]
  },
  {
   "cell_type": "code",
   "execution_count": 47,
   "metadata": {
    "colab": {
     "base_uri": "https://localhost:8080/",
     "height": 300
    },
    "id": "S1NEol0Fe0fJ",
    "outputId": "e1451624-cf50-4933-b003-2489f08c662c",
    "scrolled": true
   },
   "outputs": [
    {
     "data": {
      "text/html": [
       "<div>\n",
       "<style scoped>\n",
       "    .dataframe tbody tr th:only-of-type {\n",
       "        vertical-align: middle;\n",
       "    }\n",
       "\n",
       "    .dataframe tbody tr th {\n",
       "        vertical-align: top;\n",
       "    }\n",
       "\n",
       "    .dataframe thead th {\n",
       "        text-align: right;\n",
       "    }\n",
       "</style>\n",
       "<table border=\"1\" class=\"dataframe\">\n",
       "  <thead>\n",
       "    <tr style=\"text-align: right;\">\n",
       "      <th></th>\n",
       "      <th>registered_age</th>\n",
       "    </tr>\n",
       "  </thead>\n",
       "  <tbody>\n",
       "    <tr>\n",
       "      <th>count</th>\n",
       "      <td>6482.000000</td>\n",
       "    </tr>\n",
       "    <tr>\n",
       "      <th>mean</th>\n",
       "      <td>10.489972</td>\n",
       "    </tr>\n",
       "    <tr>\n",
       "      <th>std</th>\n",
       "      <td>5.021968</td>\n",
       "    </tr>\n",
       "    <tr>\n",
       "      <th>min</th>\n",
       "      <td>2.000000</td>\n",
       "    </tr>\n",
       "    <tr>\n",
       "      <th>25%</th>\n",
       "      <td>6.000000</td>\n",
       "    </tr>\n",
       "    <tr>\n",
       "      <th>50%</th>\n",
       "      <td>10.000000</td>\n",
       "    </tr>\n",
       "    <tr>\n",
       "      <th>75%</th>\n",
       "      <td>15.000000</td>\n",
       "    </tr>\n",
       "    <tr>\n",
       "      <th>max</th>\n",
       "      <td>19.000000</td>\n",
       "    </tr>\n",
       "  </tbody>\n",
       "</table>\n",
       "</div>"
      ],
      "text/plain": [
       "       registered_age\n",
       "count     6482.000000\n",
       "mean        10.489972\n",
       "std          5.021968\n",
       "min          2.000000\n",
       "25%          6.000000\n",
       "50%         10.000000\n",
       "75%         15.000000\n",
       "max         19.000000"
      ]
     },
     "execution_count": 47,
     "metadata": {},
     "output_type": "execute_result"
    }
   ],
   "source": [
    "data.describe() "
   ]
  },
  {
   "cell_type": "code",
   "execution_count": 48,
   "metadata": {
    "colab": {
     "base_uri": "https://localhost:8080/"
    },
    "id": "hNg-ZeUdpjxE",
    "outputId": "e9c1a970-363b-4ec9-a92e-753e7e57d6eb"
   },
   "outputs": [
    {
     "data": {
      "text/plain": [
       "Index(['cell', 'city', 'country', 'coordinates', 'dob', 'email', 'first_name',\n",
       "       'full_name', 'gender', 'id', 'id_number', 'id_type', 'info',\n",
       "       'last_name', 'login_md5', 'login_salt', 'login_sha1', 'login_sha256',\n",
       "       'login_uuid', 'nat', 'password', 'phone', 'postcode', 'registered',\n",
       "       'registered_age', 'state', 'street', 'username', 'zipcode'],\n",
       "      dtype='object')"
      ]
     },
     "execution_count": 48,
     "metadata": {},
     "output_type": "execute_result"
    }
   ],
   "source": [
    "data.columns"
   ]
  },
  {
   "cell_type": "code",
   "execution_count": 49,
   "metadata": {},
   "outputs": [
    {
     "name": "stdout",
     "output_type": "stream",
     "text": [
      "['Aarhus' 'Rønnede' 'Hornbæk' ... 'Wynau' 'Zwartewaterland' 'Raleigh']\n",
      "['Denmark' 'United States' 'Netherlands' 'France' 'Australia'\n",
      " 'Switzerland' 'Norway' 'United Kingdom' 'Ireland' 'Spain' 'Finland']\n",
      "['male' 'female']\n",
      "['DK' 'US' 'NL' 'FR' 'AU' 'CH' 'NO' 'GB' 'IE' 'ES' 'FI']\n",
      "['1993-01-13T15:08:05.786Z' '1963-02-18T09:27:54.515Z'\n",
      " '1970-05-03T08:54:43.828Z' ... '1964-04-16T02:08:51.009Z'\n",
      " '1953-05-23T12:50:44.473Z' '1977-05-27T13:15:37.325Z']\n",
      "['Hovedstaden' 'Danmark' 'Kentucky' 'Zuid-Holland' 'Eure-et-Loir'\n",
      " 'New Mexico' 'Australian Capital Territory' 'Queensland' 'Fribourg'\n",
      " 'Washington' 'Ohio' 'Sør-Trøndelag' 'Grampian' 'Mayo' 'Jura' 'Galicia'\n",
      " 'Cantabria' 'Dublin City' 'Cork' 'Cataluña' 'Zeeland' 'Pas-de-Calais'\n",
      " 'Møre og Romsdal' 'Syddanmark' 'Idaho' 'Luzern' 'New South Wales'\n",
      " 'Sjælland' 'Derbyshire' 'Hertfordshire' 'Oise' 'Extremadura' 'Florida'\n",
      " 'Oppland' 'Troms - Romsa' 'Pirkanmaa' 'Åland' 'Indre' 'Tavastia Proper'\n",
      " 'Rogaland' 'County Tyrone' 'Roscommon' 'Thurgau' 'Wicklow' 'Lozère'\n",
      " 'Dumfries and Galloway' 'Uusimaa' 'Bergen' 'Indre-et-Loire' 'Nordjylland'\n",
      " 'Herefordshire' 'Trøndelag' 'Northern Territory' 'Satakunta' 'Flevoland'\n",
      " 'Castilla y León' 'Limburg' 'Ardennes' 'Gelderland' 'Northamptonshire'\n",
      " 'Gers' 'Meuse' 'Cleveland' 'New Hampshire' 'Nord' 'Longford' 'País Vasco'\n",
      " 'Creuse' 'Dún Laoghaire–Rathdown' 'Paris' 'Tasmania' 'Limerick'\n",
      " 'Tarn-et-Garonne' 'South Australia' 'Corse-du-Sud' 'Ille-et-Vilaine'\n",
      " 'Buskerud' 'Cork City' 'Victoria' 'Cumbria' 'New York' 'Aragón'\n",
      " 'South Dakota' 'Central Finland' 'Canarias' 'West Yorkshire' 'Zürich'\n",
      " 'Southern Ostrobothnia' 'Región de Murcia' 'Castilla la Mancha' 'Wyoming'\n",
      " 'Hedmark' 'Ceuta' 'Western Australia' 'Gwent' 'Montana' 'Mid Glamorgan'\n",
      " 'Northern Savonia' 'Charente-Maritime' 'Meath' 'Schaffhausen' 'Utrecht'\n",
      " 'Maryland' 'Central Ostrobothnia' 'Seine-et-Marne' 'Galway City' 'Uri'\n",
      " 'Noord-Brabant' 'Carlow' 'Northern Ostrobothnia' 'North Karelia'\n",
      " 'Yvelines' 'County Antrim' 'Bouches-du-Rhône' 'Fife' 'Vest-Agder'\n",
      " 'Midtjylland' 'Iowa' 'Vienne' 'Alaska' 'Essex' 'Loire-Atlantique'\n",
      " 'Noord-Holland' 'Merseyside' 'Glarus' 'Päijät-Häme' 'Arkansas' 'Galway'\n",
      " 'Bas-Rhin' 'Kainuu' 'Gironde' 'Navarra' 'Drenthe' 'Graubünden' 'Nordland'\n",
      " 'Tipperary' 'Basel-Stadt' 'Lincolnshire' 'Laois' 'South Carolina'\n",
      " 'Donegal' 'Finnmark - Finnmárku' 'Solothurn' 'Telemark' 'County Armagh'\n",
      " 'Loire' 'Vaud' 'Vermont' 'South Dublin' 'Andalucía' 'Ain' 'Groningen'\n",
      " 'Appenzell Ausserrhoden' 'Basel-Landschaft' 'Comunidad de Madrid'\n",
      " 'County Fermanagh' 'Worcestershire' 'Rhône' 'Devon' 'Leicestershire'\n",
      " 'Kansas' 'Islas Baleares' 'Somme' 'Strathclyde' 'Louisiana' 'Waterford'\n",
      " 'Tennessee' 'Bern' \"Côte-D'Or\" 'Haut-Rhin' 'Kerry' 'Lancashire'\n",
      " 'La Rioja' 'Ardèche' 'Comunidad Valenciana' 'Finland Proper' 'Friesland'\n",
      " 'West Midlands' 'Yonne' 'Description' 'Highlands and Islands'\n",
      " 'North Yorkshire' 'Alpes-de-Haute-Provence' 'Deux-Sèvres' 'Haute-Corse'\n",
      " 'Zug' 'Louth' 'Appenzell Innerrhoden' 'Aust-Agder' 'Utah' 'Leitrim'\n",
      " 'La Réunion' 'Lot' 'Virginia' 'Westmeath' 'Offaly' 'Mayenne'\n",
      " 'Massachusetts' 'Kilkenny' 'Southern Savonia' 'Avon' 'Genève' 'Oslo'\n",
      " 'West Glamorgan' 'Kymenlaakso' 'Aveyron' 'Essonne' 'South Karelia'\n",
      " 'Texas' 'St. Gallen' 'Orne' 'Monaghan' 'Ticino' 'Sogn og Fjordane'\n",
      " 'West Virginia' 'Wisconsin' \"Val-D'Oise\" 'Maine-et-Loire' 'Fingal'\n",
      " 'Surrey' 'Akershus' 'Calvados' 'Arizona' 'Finistère' 'Hordaland'\n",
      " 'Alpes-Maritimes' 'Schwyz' 'Nord-Trøndelag' 'Landes' 'Neuchâtel'\n",
      " 'Nebraska' 'Buckinghamshire' 'Melilla' 'Ostrobothnia' 'Obwalden' 'Valais'\n",
      " 'Haute-Marne' 'Alabama' 'Rhode Island' 'Staffordshire' 'Loiret' 'Lothian'\n",
      " 'Mayotte' 'Norfolk' 'Overijssel' 'Vosges' 'Asturias' 'Pennsylvania'\n",
      " 'Michigan' 'Clare' 'Sligo' 'Nottinghamshire' 'Missouri' 'Kildare'\n",
      " 'Moselle' 'Cavan' 'Delaware' 'Hampshire' 'Aube' 'Kent' 'Vestfold'\n",
      " 'Gwynedd County' 'Corrèze' 'Somerset' 'Shropshire' 'Eure' 'Vendée' 'Aude'\n",
      " 'Isle of Wight' 'County Londonderry' 'Oregon' 'New Jersey' 'Hérault'\n",
      " 'Aisne' 'Allier' 'Guadeloupe' 'Nevada' 'California' 'Maine' 'Illinois'\n",
      " 'Saône-et-Loire' 'Nidwalden' 'Cambridgeshire' 'Northumberland' 'Durham'\n",
      " 'Haute-Garonne' 'Oklahoma' 'Haute-Vienne' 'Wexford' 'North Carolina'\n",
      " 'Humberside' 'Guyane' 'Territoire De Belfort' 'Meurthe-et-Moselle'\n",
      " 'Sarthe' 'Lapland' 'Cornwall' 'Isère' 'Val-de-Marne' 'South Yorkshire'\n",
      " 'Vaucluse' 'Ariège' 'Charente' 'Var' 'Rutland' 'Wiltshire' 'Borders'\n",
      " 'Nièvre' 'North Dakota' 'Indiana' 'Mississippi' 'Clwyd' 'Tayside'\n",
      " 'Hawaii' 'Gloucestershire' 'County Down' 'Drôme' 'Georgia' 'Aargau'\n",
      " 'Connecticut' 'Suffolk' 'Loir-et-Cher' 'Tyne and Wear'\n",
      " 'Seine-Saint-Denis' 'Minnesota' 'Bedfordshire' 'Cantal' 'Tarn'\n",
      " 'Greater Manchester' 'Martinique' 'Cher' 'Morbihan' 'Cheshire' 'Dorset'\n",
      " 'Powys' 'Dyfed' 'Colorado' 'Hautes-Alpes' 'Savoie' 'West Sussex'\n",
      " 'Pyrénées-Orientales' 'Haute-Savoie' 'Dordogne' 'Marne' 'Doubs'\n",
      " 'Puy-de-Dôme' 'Gard' 'South Glamorgan' 'Haute-Loire' 'Warwickshire'\n",
      " 'Hauts-de-Seine' 'Hautes-Pyrénées' 'Manche' 'Haute-Saône'\n",
      " 'Seine-Maritime' 'Berkshire' 'East Sussex' 'Lot-et-Garonne'\n",
      " 'Pyrénées-Atlantiques' 'Oxfordshire' \"Côtes-D'Armor\" 'Central']\n",
      "['98297' '21722' '46566' ... '63424' 'RS9 0YB' '55086']\n"
     ]
    }
   ],
   "source": [
    "# Separate thevariable by its categories\n",
    "print(data['city'].unique())\n",
    "print(data['country'].unique())\n",
    "print(data['gender'].unique())\n",
    "print(data['nat'].unique())\n",
    "\n",
    "print(data['dob'].unique())\n",
    "print(data['state'].unique())\n",
    "print(data['zipcode'].unique())\n"
   ]
  },
  {
   "cell_type": "code",
   "execution_count": 50,
   "metadata": {},
   "outputs": [
    {
     "data": {
      "text/plain": [
       "1979-12-27T08:43:48.545Z    1\n",
       "1964-02-01T05:15:47.300Z    1\n",
       "1992-12-02T00:03:04.826Z    1\n",
       "1977-08-21T14:41:31.178Z    1\n",
       "1949-01-16T09:36:03.683Z    1\n",
       "                           ..\n",
       "1973-08-01T14:20:19.351Z    1\n",
       "1951-10-17T14:21:26.493Z    1\n",
       "1973-11-25T01:20:36.444Z    1\n",
       "1972-10-21T21:17:59.718Z    1\n",
       "1970-04-20T19:21:15.421Z    1\n",
       "Name: dob, Length: 6482, dtype: int64"
      ]
     },
     "execution_count": 50,
     "metadata": {},
     "output_type": "execute_result"
    }
   ],
   "source": [
    "data['dob'].value_counts()"
   ]
  },
  {
   "cell_type": "code",
   "execution_count": 51,
   "metadata": {
    "scrolled": true
   },
   "outputs": [
    {
     "name": "stdout",
     "output_type": "stream",
     "text": [
      "                cell                                        coordinates  \\\n",
      "0           86844133  {'latitude': '-27.2993', 'longitude': '-166.99...   \n",
      "1           21798697    {'latitude': '71.1049', 'longitude': '51.7705'}   \n",
      "2           42940164  {'latitude': '-56.6625', 'longitude': '-49.5258'}   \n",
      "3     (832)-210-2932  {'latitude': '-35.5890', 'longitude': '-146.82...   \n",
      "5     (514)-486-8499  {'latitude': '-31.7587', 'longitude': '-31.6096'}   \n",
      "...              ...                                                ...   \n",
      "9992    081-843-8830  {'latitude': '-65.3326', 'longitude': '-10.6884'}   \n",
      "9993  (795)-340-3841    {'latitude': '31.9774', 'longitude': '47.8871'}   \n",
      "9994     645-085-726  {'latitude': '-43.0999', 'longitude': '-161.55...   \n",
      "9995    0772-477-654   {'latitude': '-46.3901', 'longitude': '57.8306'}   \n",
      "9998  (576)-721-1868  {'latitude': '22.1019', 'longitude': '-109.1771'}   \n",
      "\n",
      "                           dob                         email first_name  \\\n",
      "0     1993-01-13T15:08:05.786Z  andreas.petersen@example.com    Andreas   \n",
      "1     1963-02-18T09:27:54.515Z  andrea.mortensen@example.com     Andrea   \n",
      "2     1970-05-03T08:54:43.828Z  josefine.nielsen@example.com   Josefine   \n",
      "3     1975-05-26T11:09:54.151Z       eleanor.cox@example.com    Eleanor   \n",
      "5     1951-06-26T15:15:03.685Z     djimmy.altena@example.com     Djimmy   \n",
      "...                        ...                           ...        ...   \n",
      "9992  1967-10-23T02:33:31.857Z      ed.robertson@example.com         Ed   \n",
      "9993  1964-01-13T04:55:34.532Z    manuel.vanoost@example.com     Manuël   \n",
      "9994  1964-04-16T02:08:51.009Z      vicenta.sanz@example.com    Vicenta   \n",
      "9995  1953-05-23T12:50:44.473Z       sara.harper@example.com       Sara   \n",
      "9998  1977-05-27T13:15:37.325Z     candice.evans@example.com    Candice   \n",
      "\n",
      "             full_name                                           id  \\\n",
      "0     Andreas Petersen     {'type': 'CPR', 'number': '130193-1307'}   \n",
      "1     Andrea Mortensen     {'type': 'CPR', 'number': '180263-1138'}   \n",
      "2     Josefine Nielsen     {'type': 'CPR', 'number': '030570-4011'}   \n",
      "3          Eleanor Cox     {'type': 'SSN', 'number': '388-69-0621'}   \n",
      "5        Djimmy Altena        {'type': 'BSN', 'number': '24749532'}   \n",
      "...                ...                                          ...   \n",
      "9992      Ed Robertson        {'type': 'PPS', 'number': '5143634T'}   \n",
      "9993   Manuël Van Oost        {'type': 'BSN', 'number': '19927854'}   \n",
      "9994      Vicenta Sanz      {'type': 'DNI', 'number': '27841922-B'}   \n",
      "9995       Sara Harper  {'type': 'NINO', 'number': 'GA 83 45 66 H'}   \n",
      "9998     Candice Evans     {'type': 'SSN', 'number': '717-95-9518'}   \n",
      "\n",
      "          id_number id_type  \\\n",
      "0       130193-1307     CPR   \n",
      "1       180263-1138     CPR   \n",
      "2       030570-4011     CPR   \n",
      "3       388-69-0621     SSN   \n",
      "5          24749532     BSN   \n",
      "...             ...     ...   \n",
      "9992       5143634T     PPS   \n",
      "9993       19927854     BSN   \n",
      "9994     27841922-B     DNI   \n",
      "9995  GA 83 45 66 H    NINO   \n",
      "9998    717-95-9518     SSN   \n",
      "\n",
      "                                                   info  ... zipcode_ZG2 7BF  \\\n",
      "0     {'seed': '2c80352ada86675e', 'results': 5000, ...  ...               0   \n",
      "1     {'seed': '2c80352ada86675e', 'results': 5000, ...  ...               0   \n",
      "2     {'seed': '2c80352ada86675e', 'results': 5000, ...  ...               0   \n",
      "3     {'seed': '2c80352ada86675e', 'results': 5000, ...  ...               0   \n",
      "5     {'seed': '2c80352ada86675e', 'results': 5000, ...  ...               0   \n",
      "...                                                 ...  ...             ...   \n",
      "9992  {'seed': '594081f32a939828', 'results': 5000, ...  ...               0   \n",
      "9993  {'seed': '594081f32a939828', 'results': 5000, ...  ...               0   \n",
      "9994  {'seed': '594081f32a939828', 'results': 5000, ...  ...               0   \n",
      "9995  {'seed': '594081f32a939828', 'results': 5000, ...  ...               0   \n",
      "9998  {'seed': '594081f32a939828', 'results': 5000, ...  ...               0   \n",
      "\n",
      "     zipcode_ZH88 6EX zipcode_ZI72 4FF zipcode_ZJ71 1LU zipcode_ZJ7U 6LY  \\\n",
      "0                   0                0                0                0   \n",
      "1                   0                0                0                0   \n",
      "2                   0                0                0                0   \n",
      "3                   0                0                0                0   \n",
      "5                   0                0                0                0   \n",
      "...               ...              ...              ...              ...   \n",
      "9992                0                0                0                0   \n",
      "9993                0                0                0                0   \n",
      "9994                0                0                0                0   \n",
      "9995                0                0                0                0   \n",
      "9998                0                0                0                0   \n",
      "\n",
      "     zipcode_ZK5K 4LW zipcode_ZR1 9QQ zipcode_ZT0O 3EE zipcode_ZV6 4WA  \\\n",
      "0                   0               0                0               0   \n",
      "1                   0               0                0               0   \n",
      "2                   0               0                0               0   \n",
      "3                   0               0                0               0   \n",
      "5                   0               0                0               0   \n",
      "...               ...             ...              ...             ...   \n",
      "9992                0               0                0               0   \n",
      "9993                0               0                0               0   \n",
      "9994                0               0                0               0   \n",
      "9995                0               0                0               0   \n",
      "9998                0               0                0               0   \n",
      "\n",
      "     zipcode_ZZ02 6EJ  \n",
      "0                   0  \n",
      "1                   0  \n",
      "2                   0  \n",
      "3                   0  \n",
      "5                   0  \n",
      "...               ...  \n",
      "9992                0  \n",
      "9993                0  \n",
      "9994                0  \n",
      "9995                0  \n",
      "9998                0  \n",
      "\n",
      "[6482 rows x 9040 columns]\n"
     ]
    }
   ],
   "source": [
    "en_data = pd.get_dummies(data, columns = ['city', 'country','gender', 'state','zipcode' ])\n",
    "print(en_data)"
   ]
  },
  {
   "cell_type": "code",
   "execution_count": 52,
   "metadata": {},
   "outputs": [
    {
     "data": {
      "text/html": [
       "<div>\n",
       "<style scoped>\n",
       "    .dataframe tbody tr th:only-of-type {\n",
       "        vertical-align: middle;\n",
       "    }\n",
       "\n",
       "    .dataframe tbody tr th {\n",
       "        vertical-align: top;\n",
       "    }\n",
       "\n",
       "    .dataframe thead th {\n",
       "        text-align: right;\n",
       "    }\n",
       "</style>\n",
       "<table border=\"1\" class=\"dataframe\">\n",
       "  <thead>\n",
       "    <tr style=\"text-align: right;\">\n",
       "      <th></th>\n",
       "      <th>cell</th>\n",
       "      <th>coordinates</th>\n",
       "      <th>dob</th>\n",
       "      <th>email</th>\n",
       "      <th>first_name</th>\n",
       "      <th>full_name</th>\n",
       "      <th>id</th>\n",
       "      <th>id_number</th>\n",
       "      <th>id_type</th>\n",
       "      <th>info</th>\n",
       "      <th>...</th>\n",
       "      <th>zipcode_ZG2 7BF</th>\n",
       "      <th>zipcode_ZH88 6EX</th>\n",
       "      <th>zipcode_ZI72 4FF</th>\n",
       "      <th>zipcode_ZJ71 1LU</th>\n",
       "      <th>zipcode_ZJ7U 6LY</th>\n",
       "      <th>zipcode_ZK5K 4LW</th>\n",
       "      <th>zipcode_ZR1 9QQ</th>\n",
       "      <th>zipcode_ZT0O 3EE</th>\n",
       "      <th>zipcode_ZV6 4WA</th>\n",
       "      <th>zipcode_ZZ02 6EJ</th>\n",
       "    </tr>\n",
       "  </thead>\n",
       "  <tbody>\n",
       "    <tr>\n",
       "      <th>0</th>\n",
       "      <td>86844133</td>\n",
       "      <td>{'latitude': '-27.2993', 'longitude': '-166.99...</td>\n",
       "      <td>1993-01-13T15:08:05.786Z</td>\n",
       "      <td>andreas.petersen@example.com</td>\n",
       "      <td>Andreas</td>\n",
       "      <td>Andreas Petersen</td>\n",
       "      <td>{'type': 'CPR', 'number': '130193-1307'}</td>\n",
       "      <td>130193-1307</td>\n",
       "      <td>CPR</td>\n",
       "      <td>{'seed': '2c80352ada86675e', 'results': 5000, ...</td>\n",
       "      <td>...</td>\n",
       "      <td>0</td>\n",
       "      <td>0</td>\n",
       "      <td>0</td>\n",
       "      <td>0</td>\n",
       "      <td>0</td>\n",
       "      <td>0</td>\n",
       "      <td>0</td>\n",
       "      <td>0</td>\n",
       "      <td>0</td>\n",
       "      <td>0</td>\n",
       "    </tr>\n",
       "    <tr>\n",
       "      <th>1</th>\n",
       "      <td>21798697</td>\n",
       "      <td>{'latitude': '71.1049', 'longitude': '51.7705'}</td>\n",
       "      <td>1963-02-18T09:27:54.515Z</td>\n",
       "      <td>andrea.mortensen@example.com</td>\n",
       "      <td>Andrea</td>\n",
       "      <td>Andrea Mortensen</td>\n",
       "      <td>{'type': 'CPR', 'number': '180263-1138'}</td>\n",
       "      <td>180263-1138</td>\n",
       "      <td>CPR</td>\n",
       "      <td>{'seed': '2c80352ada86675e', 'results': 5000, ...</td>\n",
       "      <td>...</td>\n",
       "      <td>0</td>\n",
       "      <td>0</td>\n",
       "      <td>0</td>\n",
       "      <td>0</td>\n",
       "      <td>0</td>\n",
       "      <td>0</td>\n",
       "      <td>0</td>\n",
       "      <td>0</td>\n",
       "      <td>0</td>\n",
       "      <td>0</td>\n",
       "    </tr>\n",
       "    <tr>\n",
       "      <th>2</th>\n",
       "      <td>42940164</td>\n",
       "      <td>{'latitude': '-56.6625', 'longitude': '-49.5258'}</td>\n",
       "      <td>1970-05-03T08:54:43.828Z</td>\n",
       "      <td>josefine.nielsen@example.com</td>\n",
       "      <td>Josefine</td>\n",
       "      <td>Josefine Nielsen</td>\n",
       "      <td>{'type': 'CPR', 'number': '030570-4011'}</td>\n",
       "      <td>030570-4011</td>\n",
       "      <td>CPR</td>\n",
       "      <td>{'seed': '2c80352ada86675e', 'results': 5000, ...</td>\n",
       "      <td>...</td>\n",
       "      <td>0</td>\n",
       "      <td>0</td>\n",
       "      <td>0</td>\n",
       "      <td>0</td>\n",
       "      <td>0</td>\n",
       "      <td>0</td>\n",
       "      <td>0</td>\n",
       "      <td>0</td>\n",
       "      <td>0</td>\n",
       "      <td>0</td>\n",
       "    </tr>\n",
       "    <tr>\n",
       "      <th>3</th>\n",
       "      <td>(832)-210-2932</td>\n",
       "      <td>{'latitude': '-35.5890', 'longitude': '-146.82...</td>\n",
       "      <td>1975-05-26T11:09:54.151Z</td>\n",
       "      <td>eleanor.cox@example.com</td>\n",
       "      <td>Eleanor</td>\n",
       "      <td>Eleanor Cox</td>\n",
       "      <td>{'type': 'SSN', 'number': '388-69-0621'}</td>\n",
       "      <td>388-69-0621</td>\n",
       "      <td>SSN</td>\n",
       "      <td>{'seed': '2c80352ada86675e', 'results': 5000, ...</td>\n",
       "      <td>...</td>\n",
       "      <td>0</td>\n",
       "      <td>0</td>\n",
       "      <td>0</td>\n",
       "      <td>0</td>\n",
       "      <td>0</td>\n",
       "      <td>0</td>\n",
       "      <td>0</td>\n",
       "      <td>0</td>\n",
       "      <td>0</td>\n",
       "      <td>0</td>\n",
       "    </tr>\n",
       "    <tr>\n",
       "      <th>5</th>\n",
       "      <td>(514)-486-8499</td>\n",
       "      <td>{'latitude': '-31.7587', 'longitude': '-31.6096'}</td>\n",
       "      <td>1951-06-26T15:15:03.685Z</td>\n",
       "      <td>djimmy.altena@example.com</td>\n",
       "      <td>Djimmy</td>\n",
       "      <td>Djimmy Altena</td>\n",
       "      <td>{'type': 'BSN', 'number': '24749532'}</td>\n",
       "      <td>24749532</td>\n",
       "      <td>BSN</td>\n",
       "      <td>{'seed': '2c80352ada86675e', 'results': 5000, ...</td>\n",
       "      <td>...</td>\n",
       "      <td>0</td>\n",
       "      <td>0</td>\n",
       "      <td>0</td>\n",
       "      <td>0</td>\n",
       "      <td>0</td>\n",
       "      <td>0</td>\n",
       "      <td>0</td>\n",
       "      <td>0</td>\n",
       "      <td>0</td>\n",
       "      <td>0</td>\n",
       "    </tr>\n",
       "  </tbody>\n",
       "</table>\n",
       "<p>5 rows × 9040 columns</p>\n",
       "</div>"
      ],
      "text/plain": [
       "             cell                                        coordinates  \\\n",
       "0        86844133  {'latitude': '-27.2993', 'longitude': '-166.99...   \n",
       "1        21798697    {'latitude': '71.1049', 'longitude': '51.7705'}   \n",
       "2        42940164  {'latitude': '-56.6625', 'longitude': '-49.5258'}   \n",
       "3  (832)-210-2932  {'latitude': '-35.5890', 'longitude': '-146.82...   \n",
       "5  (514)-486-8499  {'latitude': '-31.7587', 'longitude': '-31.6096'}   \n",
       "\n",
       "                        dob                         email first_name  \\\n",
       "0  1993-01-13T15:08:05.786Z  andreas.petersen@example.com    Andreas   \n",
       "1  1963-02-18T09:27:54.515Z  andrea.mortensen@example.com     Andrea   \n",
       "2  1970-05-03T08:54:43.828Z  josefine.nielsen@example.com   Josefine   \n",
       "3  1975-05-26T11:09:54.151Z       eleanor.cox@example.com    Eleanor   \n",
       "5  1951-06-26T15:15:03.685Z     djimmy.altena@example.com     Djimmy   \n",
       "\n",
       "          full_name                                        id    id_number  \\\n",
       "0  Andreas Petersen  {'type': 'CPR', 'number': '130193-1307'}  130193-1307   \n",
       "1  Andrea Mortensen  {'type': 'CPR', 'number': '180263-1138'}  180263-1138   \n",
       "2  Josefine Nielsen  {'type': 'CPR', 'number': '030570-4011'}  030570-4011   \n",
       "3       Eleanor Cox  {'type': 'SSN', 'number': '388-69-0621'}  388-69-0621   \n",
       "5     Djimmy Altena     {'type': 'BSN', 'number': '24749532'}     24749532   \n",
       "\n",
       "  id_type                                               info  ...  \\\n",
       "0     CPR  {'seed': '2c80352ada86675e', 'results': 5000, ...  ...   \n",
       "1     CPR  {'seed': '2c80352ada86675e', 'results': 5000, ...  ...   \n",
       "2     CPR  {'seed': '2c80352ada86675e', 'results': 5000, ...  ...   \n",
       "3     SSN  {'seed': '2c80352ada86675e', 'results': 5000, ...  ...   \n",
       "5     BSN  {'seed': '2c80352ada86675e', 'results': 5000, ...  ...   \n",
       "\n",
       "  zipcode_ZG2 7BF zipcode_ZH88 6EX zipcode_ZI72 4FF zipcode_ZJ71 1LU  \\\n",
       "0               0                0                0                0   \n",
       "1               0                0                0                0   \n",
       "2               0                0                0                0   \n",
       "3               0                0                0                0   \n",
       "5               0                0                0                0   \n",
       "\n",
       "  zipcode_ZJ7U 6LY zipcode_ZK5K 4LW zipcode_ZR1 9QQ zipcode_ZT0O 3EE  \\\n",
       "0                0                0               0                0   \n",
       "1                0                0               0                0   \n",
       "2                0                0               0                0   \n",
       "3                0                0               0                0   \n",
       "5                0                0               0                0   \n",
       "\n",
       "  zipcode_ZV6 4WA zipcode_ZZ02 6EJ  \n",
       "0               0                0  \n",
       "1               0                0  \n",
       "2               0                0  \n",
       "3               0                0  \n",
       "5               0                0  \n",
       "\n",
       "[5 rows x 9040 columns]"
      ]
     },
     "execution_count": 52,
     "metadata": {},
     "output_type": "execute_result"
    }
   ],
   "source": [
    "en_data.head()"
   ]
  },
  {
   "cell_type": "code",
   "execution_count": 53,
   "metadata": {},
   "outputs": [
    {
     "data": {
      "text/html": [
       "<div>\n",
       "<style scoped>\n",
       "    .dataframe tbody tr th:only-of-type {\n",
       "        vertical-align: middle;\n",
       "    }\n",
       "\n",
       "    .dataframe tbody tr th {\n",
       "        vertical-align: top;\n",
       "    }\n",
       "\n",
       "    .dataframe thead th {\n",
       "        text-align: right;\n",
       "    }\n",
       "</style>\n",
       "<table border=\"1\" class=\"dataframe\">\n",
       "  <thead>\n",
       "    <tr style=\"text-align: right;\">\n",
       "      <th></th>\n",
       "      <th>cell</th>\n",
       "      <th>city</th>\n",
       "      <th>country</th>\n",
       "      <th>coordinates</th>\n",
       "      <th>dob</th>\n",
       "      <th>email</th>\n",
       "      <th>first_name</th>\n",
       "      <th>full_name</th>\n",
       "      <th>gender</th>\n",
       "      <th>id</th>\n",
       "      <th>...</th>\n",
       "      <th>nat</th>\n",
       "      <th>password</th>\n",
       "      <th>phone</th>\n",
       "      <th>postcode</th>\n",
       "      <th>registered</th>\n",
       "      <th>registered_age</th>\n",
       "      <th>state</th>\n",
       "      <th>street</th>\n",
       "      <th>username</th>\n",
       "      <th>zipcode</th>\n",
       "    </tr>\n",
       "  </thead>\n",
       "  <tbody>\n",
       "    <tr>\n",
       "      <th>0</th>\n",
       "      <td>86844133</td>\n",
       "      <td>Aarhus</td>\n",
       "      <td>Denmark</td>\n",
       "      <td>{'latitude': '-27.2993', 'longitude': '-166.99...</td>\n",
       "      <td>1993-01-13T15:08:05.786Z</td>\n",
       "      <td>andreas.petersen@example.com</td>\n",
       "      <td>Andreas</td>\n",
       "      <td>Andreas Petersen</td>\n",
       "      <td>male</td>\n",
       "      <td>{'type': 'CPR', 'number': '130193-1307'}</td>\n",
       "      <td>...</td>\n",
       "      <td>DK</td>\n",
       "      <td>sushi</td>\n",
       "      <td>78178106</td>\n",
       "      <td>98297</td>\n",
       "      <td>2014-11-28T08:02:33.528Z</td>\n",
       "      <td>7</td>\n",
       "      <td>Hovedstaden</td>\n",
       "      <td>3749 Danmarksgade</td>\n",
       "      <td>lazypanda650</td>\n",
       "      <td>98297</td>\n",
       "    </tr>\n",
       "    <tr>\n",
       "      <th>1</th>\n",
       "      <td>21798697</td>\n",
       "      <td>Rønnede</td>\n",
       "      <td>Denmark</td>\n",
       "      <td>{'latitude': '71.1049', 'longitude': '51.7705'}</td>\n",
       "      <td>1963-02-18T09:27:54.515Z</td>\n",
       "      <td>andrea.mortensen@example.com</td>\n",
       "      <td>Andrea</td>\n",
       "      <td>Andrea Mortensen</td>\n",
       "      <td>female</td>\n",
       "      <td>{'type': 'CPR', 'number': '180263-1138'}</td>\n",
       "      <td>...</td>\n",
       "      <td>DK</td>\n",
       "      <td>12345678</td>\n",
       "      <td>82788871</td>\n",
       "      <td>21722</td>\n",
       "      <td>2011-08-01T14:31:46.077Z</td>\n",
       "      <td>10</td>\n",
       "      <td>Hovedstaden</td>\n",
       "      <td>9435 Morelvej</td>\n",
       "      <td>orangedog426</td>\n",
       "      <td>21722</td>\n",
       "    </tr>\n",
       "    <tr>\n",
       "      <th>2</th>\n",
       "      <td>42940164</td>\n",
       "      <td>Hornbæk</td>\n",
       "      <td>Denmark</td>\n",
       "      <td>{'latitude': '-56.6625', 'longitude': '-49.5258'}</td>\n",
       "      <td>1970-05-03T08:54:43.828Z</td>\n",
       "      <td>josefine.nielsen@example.com</td>\n",
       "      <td>Josefine</td>\n",
       "      <td>Josefine Nielsen</td>\n",
       "      <td>female</td>\n",
       "      <td>{'type': 'CPR', 'number': '030570-4011'}</td>\n",
       "      <td>...</td>\n",
       "      <td>DK</td>\n",
       "      <td>down</td>\n",
       "      <td>66933663</td>\n",
       "      <td>46566</td>\n",
       "      <td>2012-09-23T01:15:07.931Z</td>\n",
       "      <td>9</td>\n",
       "      <td>Danmark</td>\n",
       "      <td>7343 Tjørnebjerg</td>\n",
       "      <td>beautifulkoala516</td>\n",
       "      <td>46566</td>\n",
       "    </tr>\n",
       "    <tr>\n",
       "      <th>3</th>\n",
       "      <td>(832)-210-2932</td>\n",
       "      <td>West Jordan</td>\n",
       "      <td>United States</td>\n",
       "      <td>{'latitude': '-35.5890', 'longitude': '-146.82...</td>\n",
       "      <td>1975-05-26T11:09:54.151Z</td>\n",
       "      <td>eleanor.cox@example.com</td>\n",
       "      <td>Eleanor</td>\n",
       "      <td>Eleanor Cox</td>\n",
       "      <td>female</td>\n",
       "      <td>{'type': 'SSN', 'number': '388-69-0621'}</td>\n",
       "      <td>...</td>\n",
       "      <td>US</td>\n",
       "      <td>puff</td>\n",
       "      <td>(113)-462-6318</td>\n",
       "      <td>73750</td>\n",
       "      <td>2015-06-16T21:38:49.101Z</td>\n",
       "      <td>6</td>\n",
       "      <td>Kentucky</td>\n",
       "      <td>4533 Valley View Ln</td>\n",
       "      <td>sadrabbit934</td>\n",
       "      <td>73750</td>\n",
       "    </tr>\n",
       "    <tr>\n",
       "      <th>5</th>\n",
       "      <td>(514)-486-8499</td>\n",
       "      <td>Súdwest-Fryslân</td>\n",
       "      <td>Netherlands</td>\n",
       "      <td>{'latitude': '-31.7587', 'longitude': '-31.6096'}</td>\n",
       "      <td>1951-06-26T15:15:03.685Z</td>\n",
       "      <td>djimmy.altena@example.com</td>\n",
       "      <td>Djimmy</td>\n",
       "      <td>Djimmy Altena</td>\n",
       "      <td>male</td>\n",
       "      <td>{'type': 'BSN', 'number': '24749532'}</td>\n",
       "      <td>...</td>\n",
       "      <td>NL</td>\n",
       "      <td>highheel</td>\n",
       "      <td>(137)-971-7436</td>\n",
       "      <td>73345</td>\n",
       "      <td>2005-10-12T12:58:43.375Z</td>\n",
       "      <td>16</td>\n",
       "      <td>Zuid-Holland</td>\n",
       "      <td>5781 Debussystraat</td>\n",
       "      <td>blackwolf450</td>\n",
       "      <td>73345</td>\n",
       "    </tr>\n",
       "  </tbody>\n",
       "</table>\n",
       "<p>5 rows × 29 columns</p>\n",
       "</div>"
      ],
      "text/plain": [
       "             cell             city        country  \\\n",
       "0        86844133           Aarhus        Denmark   \n",
       "1        21798697          Rønnede        Denmark   \n",
       "2        42940164          Hornbæk        Denmark   \n",
       "3  (832)-210-2932      West Jordan  United States   \n",
       "5  (514)-486-8499  Súdwest-Fryslân    Netherlands   \n",
       "\n",
       "                                         coordinates  \\\n",
       "0  {'latitude': '-27.2993', 'longitude': '-166.99...   \n",
       "1    {'latitude': '71.1049', 'longitude': '51.7705'}   \n",
       "2  {'latitude': '-56.6625', 'longitude': '-49.5258'}   \n",
       "3  {'latitude': '-35.5890', 'longitude': '-146.82...   \n",
       "5  {'latitude': '-31.7587', 'longitude': '-31.6096'}   \n",
       "\n",
       "                        dob                         email first_name  \\\n",
       "0  1993-01-13T15:08:05.786Z  andreas.petersen@example.com    Andreas   \n",
       "1  1963-02-18T09:27:54.515Z  andrea.mortensen@example.com     Andrea   \n",
       "2  1970-05-03T08:54:43.828Z  josefine.nielsen@example.com   Josefine   \n",
       "3  1975-05-26T11:09:54.151Z       eleanor.cox@example.com    Eleanor   \n",
       "5  1951-06-26T15:15:03.685Z     djimmy.altena@example.com     Djimmy   \n",
       "\n",
       "          full_name  gender                                        id  ...  \\\n",
       "0  Andreas Petersen    male  {'type': 'CPR', 'number': '130193-1307'}  ...   \n",
       "1  Andrea Mortensen  female  {'type': 'CPR', 'number': '180263-1138'}  ...   \n",
       "2  Josefine Nielsen  female  {'type': 'CPR', 'number': '030570-4011'}  ...   \n",
       "3       Eleanor Cox  female  {'type': 'SSN', 'number': '388-69-0621'}  ...   \n",
       "5     Djimmy Altena    male     {'type': 'BSN', 'number': '24749532'}  ...   \n",
       "\n",
       "  nat  password           phone postcode                registered  \\\n",
       "0  DK     sushi        78178106    98297  2014-11-28T08:02:33.528Z   \n",
       "1  DK  12345678        82788871    21722  2011-08-01T14:31:46.077Z   \n",
       "2  DK      down        66933663    46566  2012-09-23T01:15:07.931Z   \n",
       "3  US      puff  (113)-462-6318    73750  2015-06-16T21:38:49.101Z   \n",
       "5  NL  highheel  (137)-971-7436    73345  2005-10-12T12:58:43.375Z   \n",
       "\n",
       "  registered_age         state               street           username zipcode  \n",
       "0              7   Hovedstaden    3749 Danmarksgade       lazypanda650   98297  \n",
       "1             10   Hovedstaden        9435 Morelvej       orangedog426   21722  \n",
       "2              9       Danmark     7343 Tjørnebjerg  beautifulkoala516   46566  \n",
       "3              6      Kentucky  4533 Valley View Ln       sadrabbit934   73750  \n",
       "5             16  Zuid-Holland   5781 Debussystraat       blackwolf450   73345  \n",
       "\n",
       "[5 rows x 29 columns]"
      ]
     },
     "execution_count": 53,
     "metadata": {},
     "output_type": "execute_result"
    }
   ],
   "source": [
    "data.head()"
   ]
  },
  {
   "cell_type": "markdown",
   "metadata": {
    "collapsed": true
   },
   "source": [
    "from sklearn.preprocessing import MinMaxScaler\n",
    "scaler = MinMaxScaler()\n",
    "#print(scaler.fit(en_data))\n",
    "#print(scaler.transform(en_data))\n",
    "en_data[en_data.columns] = scaler.fit_transform(en_data[en_data.columns])\n",
    "print(en_data)\n"
   ]
  },
  {
   "cell_type": "code",
   "execution_count": 54,
   "metadata": {},
   "outputs": [
    {
     "data": {
      "image/png": "[encoded data removed]",
      "text/plain": [
       "<Figure size 432x288 with 1 Axes>"
      ]
     },
     "metadata": {
      "needs_background": "light"
     },
     "output_type": "display_data"
    }
   ],
   "source": [
    "data.boxplot(column =['registered_age'])\n",
    "plt.show()\n",
    "#the age of majority of users is between (7;15)"
   ]
  },
  {
   "cell_type": "code",
   "execution_count": 63,
   "metadata": {
    "scrolled": true
   },
   "outputs": [
    {
     "name": "stderr",
     "output_type": "stream",
     "text": [
      "C:\\Users\\User\\anaconda3\\lib\\site-packages\\seaborn\\_decorators.py:36: FutureWarning: Pass the following variable as a keyword arg: x. From version 0.12, the only valid positional argument will be `data`, and passing other arguments without an explicit keyword will result in an error or misinterpretation.\n",
      "  warnings.warn(\n"
     ]
    },
    {
     "data": {
      "image/png": "[encoded data removed]",
      "text/plain": [
       "<Figure size 432x288 with 1 Axes>"
      ]
     },
     "metadata": {
      "needs_background": "light"
     },
     "output_type": "display_data"
    }
   ],
   "source": [
    "\n",
    "sns.countplot(data.gender)\n",
    "plt.title(\"Gender\")\n",
    "plt.show()"
   ]
  },
  {
   "cell_type": "code",
   "execution_count": 65,
   "metadata": {},
   "outputs": [
    {
     "data": {
      "text/plain": [
       "female    3247\n",
       "male      3235\n",
       "Name: gender, dtype: int64"
      ]
     },
     "execution_count": 65,
     "metadata": {},
     "output_type": "execute_result"
    }
   ],
   "source": [
    "data.gender.value_counts() \n",
    "#variable gender is balanced"
   ]
  },
  {
   "cell_type": "code",
   "execution_count": 55,
   "metadata": {
    "colab": {
     "base_uri": "https://localhost:8080/",
     "height": 452
    },
    "id": "nvcQ0RvGe0fK",
    "outputId": "c6e5c47a-6872-4ea6-f510-c619fd5a91ff"
   },
   "outputs": [
    {
     "name": "stderr",
     "output_type": "stream",
     "text": [
      "C:\\Users\\User\\anaconda3\\lib\\site-packages\\seaborn\\_decorators.py:36: FutureWarning: Pass the following variable as a keyword arg: x. From version 0.12, the only valid positional argument will be `data`, and passing other arguments without an explicit keyword will result in an error or misinterpretation.\n",
      "  warnings.warn(\n"
     ]
    },
    {
     "data": {
      "image/png": "[encoded data removed]",
      "text/plain": [
       "<Figure size 1080x648 with 1 Axes>"
      ]
     },
     "metadata": {
      "needs_background": "light"
     },
     "output_type": "display_data"
    }
   ],
   "source": [
    "\n",
    "plt.figure(figsize=(15,9))          \n",
    "sns.countplot(data.country)\n",
    "plt.title(\"countries\")\n",
    "plt.show()\n"
   ]
  },
  {
   "cell_type": "code",
   "execution_count": 66,
   "metadata": {
    "colab": {
     "base_uri": "https://localhost:8080/"
    },
    "id": "Ir09F3wYe0fL",
    "outputId": "a4477cd8-5a2c-4370-b9ba-31c76157756a"
   },
   "outputs": [
    {
     "data": {
      "text/plain": [
       "Ireland           625\n",
       "Denmark           610\n",
       "United States     606\n",
       "Spain             605\n",
       "France            595\n",
       "United Kingdom    594\n",
       "Norway            582\n",
       "Finland           577\n",
       "Switzerland       569\n",
       "Australia         564\n",
       "Netherlands       555\n",
       "Name: country, dtype: int64"
      ]
     },
     "execution_count": 66,
     "metadata": {},
     "output_type": "execute_result"
    }
   ],
   "source": [
    "data.country.value_counts()\n",
    "# the number of users by countries"
   ]
  },
  {
   "cell_type": "code",
   "execution_count": 68,
   "metadata": {},
   "outputs": [
    {
     "name": "stderr",
     "output_type": "stream",
     "text": [
      "C:\\Users\\User\\anaconda3\\lib\\site-packages\\seaborn\\_decorators.py:36: FutureWarning: Pass the following variable as a keyword arg: x. From version 0.12, the only valid positional argument will be `data`, and passing other arguments without an explicit keyword will result in an error or misinterpretation.\n",
      "  warnings.warn(\n"
     ]
    },
    {
     "data": {
      "image/png": "[encoded data removed]",
      "text/plain": [
       "<Figure size 1080x648 with 1 Axes>"
      ]
     },
     "metadata": {
      "needs_background": "light"
     },
     "output_type": "display_data"
    }
   ],
   "source": [
    "plt.figure(figsize=(15,9))          \n",
    "sns.countplot(data.nat)\n",
    "plt.title(\"nationality\")\n",
    "plt.show()\n"
   ]
  },
  {
   "cell_type": "code",
   "execution_count": 69,
   "metadata": {},
   "outputs": [
    {
     "data": {
      "text/plain": [
       "IE    625\n",
       "DK    610\n",
       "US    606\n",
       "ES    605\n",
       "FR    595\n",
       "GB    594\n",
       "NO    582\n",
       "FI    577\n",
       "CH    569\n",
       "AU    564\n",
       "NL    555\n",
       "Name: nat, dtype: int64"
      ]
     },
     "execution_count": 69,
     "metadata": {},
     "output_type": "execute_result"
    }
   ],
   "source": [
    "data.nat.value_counts()\n",
    "\n",
    "#as we have seen nationaliy and country have the same count"
   ]
  },
  {
   "cell_type": "code",
   "execution_count": 58,
   "metadata": {
    "scrolled": true
   },
   "outputs": [
    {
     "data": {
      "image/png": "[encoded data removed]",
      "text/plain": [
       "<Figure size 432x288 with 1 Axes>"
      ]
     },
     "metadata": {
      "needs_background": "light"
     },
     "output_type": "display_data"
    }
   ],
   "source": [
    "ax = sns.boxplot(x=\"gender\", y=\"registered_age\", data=data)"
   ]
  },
  {
   "cell_type": "code",
   "execution_count": 59,
   "metadata": {},
   "outputs": [
    {
     "data": {
      "image/png": "[encoded data removed]",
      "text/plain": [
       "<Figure size 432x288 with 1 Axes>"
      ]
     },
     "metadata": {
      "needs_background": "light"
     },
     "output_type": "display_data"
    }
   ],
   "source": [
    "ax = sns.boxplot(x=\"nat\", y=\"registered_age\", data=data)"
   ]
  },
  {
   "cell_type": "code",
   "execution_count": 60,
   "metadata": {
    "scrolled": true
   },
   "outputs": [
    {
     "data": {
      "image/png": "[encoded data removed]",
      "text/plain": [
       "<Figure size 1080x648 with 1 Axes>"
      ]
     },
     "metadata": {
      "needs_background": "light"
     },
     "output_type": "display_data"
    }
   ],
   "source": [
    "\n",
    "\n",
    "plt.figure(figsize=(15,9))        \n",
    "sns.boxplot(x=\"country\", y=\"registered_age\", data=data)\n",
    "plt.show()"
   ]
  }
 ],
 "metadata": {
  "colab": {
   "name": "all_ok.ipynb",
   "provenance": []
  },
  "kernelspec": {
   "display_name": "Python 3",
   "language": "python",
   "name": "python3"
  },
  "language_info": {
   "codemirror_mode": {
    "name": "ipython",
    "version": 3
   },
   "file_extension": ".py",
   "mimetype": "text/x-python",
   "name": "python",
   "nbconvert_exporter": "python",
   "pygments_lexer": "ipython3",
   "version": "3.8.8"
  }
 },
 "nbformat": 4,
 "nbformat_minor": 1
}
